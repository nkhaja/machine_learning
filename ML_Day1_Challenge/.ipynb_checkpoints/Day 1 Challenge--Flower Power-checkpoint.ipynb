{
 "cells": [
  {
   "cell_type": "markdown",
   "metadata": {},
   "source": [
    "<center>  <h1>Welcome to the First Challenge!</h1></center>\n",
    "\n",
    "\n",
    "### Goals\n",
    "* Get comfortable working in jupyter notebooks\n",
    "* Get practice with some of the basic functionality in Pandas, especially in regards to DataFrames and Series.\n",
    "* Explore a classic data set, and write our fist classifier!\n",
    "\n",
    "### How To Make Use of This Notebook:\n",
    "\n",
    "Jupyter notebooks are awesome, and a big part of the first lesson will be making sure that you're awesome at using them!  Here are a couple pro-tips on how to make the best use of this notebook during this exercise:\n",
    "\n",
    "1. ** Take notes right in the middle of the notebook--its just markdown and html!**  Double click on this cell to explore the markdown that makes the cell so pretty, and to read a secret message about your instructor<!--THAT ISN'T ALAN's REAL HAIR COLOR!!!-->. If you see a place where you want to make a note in markdown, highlight any cell and then go up to \"Insert\" on the menu above. You can insert a cell above or below any other cell in the notebook.  You can also change cells from markdown to code, and vice versa.  \n",
    "\n",
    "\n",
    "2.  **Make use of all the cool IPython magic commands.**  Don't understand a function?  Call it with a question mark a at the end to see the documentation for it (or a double question mark to see the actual code for that function!).  Want to use ls to see what a file name is called, but don't want to have to open a pesky terminal window?  Just use % ls!  For a full look at the Ipython documentations and all the cool magic commands contained therein, select \"Help\" in the menu bar and follow the link to Ipython's Docs.  \n",
    "\n",
    "\n",
    "\n",
    "3.  **Poke around in the code!**  Don't understand how something works?  Change the code around until you do.  The great thing about Jupyter Notebooks is that each cell can be run individually, which will save you a ton of time and headaches.  To run any cell, just highlight the cell and press shift + enter.  In a code cell, this will run the code.  In a markdown cell, this will render the markdown.  Each time you run a code cell, the output number to the left of the cell will increment by 1.  Be sure to pay attention to this if you start running cells out of order.  Finally, if you want to run all cells at the same time (sequentially, starting from the top and working downwards), you can find that option inside the \"Cell\" menu up top.  \n",
    "\n",
    "\n",
    "For this exercise, we'll be working with the famous <a href=\"https://archive.ics.uci.edu/ml/datasets/Iris\">Iris Data Set</a>, courtesy of the <a href=\"https://archive.ics.uci.edu/ml/datasets.html\">UC Irvine Machine Learning Data Set Repository.</a>  This data set consists of measurements of 150 different Iris flowers--50 Iris Setosa, 50 Iris Virginicas, and 50 Iris Versicolors.\n",
    "\n",
    "| <center>Iris Setosa</center> | <center>Iris Virginica</center> | <center>Iris Versicolor</center> |\n",
    "|-------------|----------------|-----------------|\n",
    "| <img src=\"iris-setosa.jpg\" width=200 height =200>|<img src=\"iris-virginica.jpg\" width=200 height =200>           | <img src=\"iris-versicolor.jpg\" width=200 height =200>            |\n",
    "\n",
    "\n",
    "#### Data Wrangling in Pandas\n",
    "\n",
    "We'll start by importing the data from a .txt file into a Pandas Dataframe.  This will give us some practice importing data, and using Pandas Dataframes in organize and manipulate data as needed.  \n",
    "\n",
    "\n",
    "#### Visualizing Data with Matplotlib\n",
    "\n",
    "Next, we'll explore our data set by generating some summary statistics on what we're looking at.  More importantly, we'll visualize our data set to see if anything stands out to us. We'll also take a quick detour to look at an example of how summary statistics can be misleading, and why we should always *visualize our data!*\n",
    "\n",
    "#### Writing a Classifier\n",
    "\n",
    "The final thing we'll do is to write a basic classifier using sklearn.  Don't get discouraged if you don't understand what is going on in this step.  Our only goal here is to demystify the basic process of creating a model using machine learning algorithms.  It's NOT important that you understand the code at this point--instead, focus on the general steps that make up the process: splitting our data into **_Training_** and **_Testing_**, training our model, and validating it using testing data. "
   ]
  },
  {
   "cell_type": "code",
   "execution_count": 1,
   "metadata": {
    "collapsed": false
   },
   "outputs": [],
   "source": [
    "import pandas as pd\n",
    "import numpy as np\n",
    "import matplotlib.pyplot as plt\n",
    "\n",
    "\n",
    "# This is a magic command that will make all the pretty matplotlib visualizations appear inline for this notebook\n",
    "%matplotlib inline\n",
    "\n",
    "# Uncomment the following line(s) to see examples of how cool Ipython Magic Commands are!\n",
    "# pd.read_csv??\n",
    "#pd.read_csv??\n",
    "# % ls"
   ]
  },
  {
   "cell_type": "markdown",
   "metadata": {},
   "source": [
    "<center> <h2>Part 1:  Data Wrangling</h2></center>\n",
    "\n",
    "**We'll begin** by reading our data set into a Dataframe.  There are two main object types in pandas that we'll want to get comortable with: *Series* and *Dataframe*.  It's important that you understand the quirks and use cases of each ASAP, because the sooner we understand our tools, the sooner we can start focusing on the fun stuff.  \n",
    "\n",
    "A Pandas **_Series_** is a 1-dimensional array of data.  Python rules still apply, so the data contained can be heterogeneous--that is, the list can still contain multiple data types.  You can think of a series as a single row or single column of values from a table.  (Pro-tip:  If you want to sanitize the data in a series by making it all the same type, cast it to a numpy array before creating the Series object!  Example below).  Pandas Series Documentation available <a href=\"http://pandas.pydata.org/pandas-docs/stable/generated/pandas.Series.html\">here</a>!\n",
    "\n",
    "A Pandas **_Dataframe_** is a multidimensional container of data.  The easiest way to understand dataframes is to think of them as multidimensional arrays, or matrices.  Under the hood, they're basically a dictionary of multiple Series. Each individual row or column can be accessed as a Series, and Dataframes have all kinds of cool bells and whistles that allow you to add, drop, manipulate, or sort columns or rows based off of conditionals for the values in a given row or column.  This makes dataframes really powerful for preprocessing, when you're cleaning your data set and getting it in an acceptable state to run through an ML algorithm.  A common example might be something like replacing all empty cells in a column with the mean value for that column, or grabbing all the rows that meet a condition for a certain column.  Pandas Dataframe Documentation available <a href=\"http://pandas.pydata.org/pandas-docs/stable/generated/pandas.DataFrame.html\">here</a>!\n",
    "\n",
    "Play around with the examples below for a minute to make sure you understand what's going on, and then move on to the cell where we read in our Iris data.  "
   ]
  },
  {
   "cell_type": "code",
   "execution_count": 2,
   "metadata": {
    "collapsed": false
   },
   "outputs": [
    {
     "name": "stdout",
     "output_type": "stream",
     "text": [
      "[<class 'int'>, <class 'int'>, <class 'str'>, <class 'bool'>]\n",
      "[<class 'str'>, <class 'str'>, <class 'str'>, <class 'str'>]\n"
     ]
    }
   ],
   "source": [
    "# Let's create a small heterogeneous list that we'll turn into a Series.\n",
    "x = [1, 2, \"hello\", True]\n",
    "\n",
    "# Create a series object, and use a list comprehension to print out the type of every item inside the series.  Notice \n",
    "# That they all maintain their original types...\n",
    "series_example = pd.Series(x)\n",
    "print([type(i) for i in series_example])\n",
    "\n",
    "# Now we create an example with sanitized types by creating a numpy array, and using that to create our Series.  \n",
    "# Notice the difference?  Since there were multiple types, numpy just cast them all to Strings for us.  \n",
    "typesafe_example = pd.Series(np.array(x))\n",
    "print([type(i) for i in typesafe_example])"
   ]
  },
  {
   "cell_type": "markdown",
   "metadata": {},
   "source": [
    "### Cool! Now, lets load in our data set.  "
   ]
  },
  {
   "cell_type": "code",
   "execution_count": 3,
   "metadata": {
    "collapsed": false
   },
   "outputs": [],
   "source": [
    "# Create a dataframe by reading the csv file using pd.read_csv()\n",
    "df = pd.read_csv(\"iris.csv\", index_col=False)\n",
    "columnn_names = [\"sepal_length\", \"sepal_width\", \"petal_length\", \"petal_width\", \"class\"]\n",
    "df.columns = columnn_names\n",
    "# Next, let's take a look at our dataframe.  We can do this by printing the dataframe, \n",
    "# or we can just type the name of variable see what it contains.\n",
    "# Uncomment each of these lines and compare the output. Notice that calling print shows the data, \n",
    "# while calling the data frame object itself actually spits out a table with borders and everything!\n",
    "\n",
    "# print(df)\n",
    "# df\n",
    "\n",
    "\n",
    "# Next, let's start by examining the summary statistics of our data set.  We'll use the .describe() method\n",
    "# CALL df.describe() on the line below. \n",
    "\n",
    "# df.describe()"
   ]
  },
  {
   "cell_type": "markdown",
   "metadata": {},
   "source": [
    "<center><h1>That was FAST.</h1></center>\n",
    "\n",
    "<img src=\"fast.gif\">\n",
    "\n",
    "You've probably got alot of practice reading data the traditional way in Python:\n",
    "\n",
    "`with f as open(\"iris.csv\"):`\n",
    "\n",
    "`...`\n",
    "\n",
    "Although you'd likely have no problem reading all the data, storing it in arrays, and building your data set/calculating statistics from scratch, this way is muuuuuch quicker. Although there is certainly value in understanding the methodology behind manually reading, cleaning, and manipulating data in python, that's not our goal here.  There are a TON of cool things that Pandas and Numpy can do for us.  As a rule of thumb, check the docs before coding something up yourself.  If Pandas can do it for you, let it!  This will free up time for you to work on more meaningful tasks, and will be less likely to have bugs, since the libraries we're using are Open-Source and run by robust communities of volunteers.  "
   ]
  },
  {
   "cell_type": "markdown",
   "metadata": {
    "collapsed": true
   },
   "source": [
    "<center><h1>Step 2:  Visualizing Our Data</h1></center>\n",
    "\n",
    "Okay, so we've read our data into a Dataframe and have taken a look at the summary statistics using our handy-dandy `.describe()` method.  Before we move into writing our classifier, lets examine our summary statistics, and see if there is anything valuable to us here.  \n",
    "\n",
    "Our goal is to correctly classify each iris based on the length/width of the petals and sepals. Take a look at our summary statistics and ask yourself what value we can get out of this information. Think about the following questions:\n",
    "\n",
    "* Is this information valuable?  Why should we bother looking at summary statistics at all?\n",
    "* Can we answer our question just using summary statistics?\n",
    "* Is there anything in the data that stands out to us?\n",
    "\n",
    "As you probably guessed, the summary statistics aren't very useful on their own.  In the best case, they can give us intuition about the data set we're working with.  However, this isn't always the case, and doesn't seem to be here.  In some cases, summary statistics can even be misleading (more on that later)!  In this lesson, we won't spend any time discussing the various summary statistics and what they *could* tell us, but that doesn't mean you shouldn't know them.  As a rule of thumb, if you don't understand any of outputs of the .describe() method, consider reviewing descriptive statistics. There will come a time where you'll need to understand what standard deviation is and why it's important!\n",
    "\n",
    "A more intuitive way of understanding our data set is to **_visualize_** it.  When in doubt, plot the data!  We'll use the **_matplotlib_** library to create visualizations of our data set that should help us get a feel for what we're working with.  \n",
    "\n",
    "We have labels for all of instances, so let's graph some stuff!  Our goal here is to get a feel for our data by seeing if we can visually identify trends in the data.  On top of that, this is good practice for manipulating data inside of dataframes, and its always fun to graph stuff using matplotlib!\n",
    "\n",
    "We'll start by splitting our main dataframe into 3 different dataframes, separated by iris type (as denoted in the \"class\" label.  Then, we'll start visualizing.  "
   ]
  },
  {
   "cell_type": "markdown",
   "metadata": {},
   "source": [
    "<center><h1>But wait! What sort of graph should I choose?</h1></center>\n",
    "\n",
    "There's no right answer here, so don't worry if figuring out how you should display your data seems a little daunting.  This is an exploratory phase--some visualizations will be much more useful than others, but there's no real correct answer for which one would be best. \n",
    "\n",
    "We'll use a **_scatterplot_**, since it seems to fit pretty intuitively with our data set.  We have three different types of flowers, and measurements on the length and width of the petals and sepals.  Let's start by plotting the sepal lengths and widths of all flowers, but denote each type with its own color.  If we get lucky, we'll be able to see some visual trends based on the type of flower.  "
   ]
  },
  {
   "cell_type": "code",
   "execution_count": 4,
   "metadata": {
    "collapsed": false
   },
   "outputs": [
    {
     "data": {
      "text/plain": [
       "<matplotlib.collections.PathCollection at 0x112b06fd0>"
      ]
     },
     "execution_count": 4,
     "metadata": {},
     "output_type": "execute_result"
    },
    {
     "data": {
      "image/png": "[encoded data removed]",
      "text/plain": [
       "<matplotlib.figure.Figure at 0x10f7a2da0>"
      ]
     },
     "metadata": {},
     "output_type": "display_data"
    }
   ],
   "source": [
    "# We'll use the Dataframe's .loc method to grab all rows that contain a certain value or meet a condition, and store \n",
    "# them in a smaller dataframe.  Pay attention to the weird syntax, it's easy to mess this step up!\n",
    "\n",
    "setosas = df.loc[df[\"class\"] == 0]\n",
    "virginicas = df.loc[df[\"class\"] == 1]\n",
    "versicolors = df.loc[df[\"class\"] == 2]\n",
    "\n",
    "# Now that we have separated the rows by flower class, let's go ahead and start plotting them on a graph. We'll \n",
    "# Plot all of them on the same graph, but use different colors depending on the flower type.  This will make it easy \n",
    "# To see any trends that are specific to the flower types.  \n",
    "\n",
    "# We'll start by plotting the sepal lengths and widths of each on a scatter plot.  We'll make each different iris a \n",
    "# different color.  Make sure we set the alpha to .5 or lower, so that we can still see our points well when they\n",
    "# overlap.   \n",
    "\n",
    "\n",
    "setosa_sepal_data = [setosas[\"sepal_width\"], setosas[\"sepal_length\"]]\n",
    "virginica_sepal_data =[virginicas[\"sepal_width\"], virginicas[\"sepal_length\"]] \n",
    "versicolor_sepal_data = [versicolors[\"sepal_width\"], versicolors[\"sepal_length\"]]\n",
    "sepal_plot = plt.scatter(setosa_sepal_data[0], setosa_sepal_data[1], s=50, alpha=0.5, c='g')\n",
    "plt.scatter(virginica_sepal_data[0], virginica_sepal_data[1], s=50, alpha=0.5, c='b')\n",
    "plt.scatter(versicolor_sepal_data[0], versicolor_sepal_data[1], s=50, alpha=0.5, c='r')\n",
    "\n"
   ]
  },
  {
   "cell_type": "code",
   "execution_count": 5,
   "metadata": {
    "collapsed": false
   },
   "outputs": [
    {
     "data": {
      "text/plain": [
       "<matplotlib.collections.PathCollection at 0x112b83470>"
      ]
     },
     "execution_count": 5,
     "metadata": {},
     "output_type": "execute_result"
    },
    {
     "data": {
      "image/png": "[encoded data removed]",
      "text/plain": [
       "<matplotlib.figure.Figure at 0x10f7a2470>"
      ]
     },
     "metadata": {},
     "output_type": "display_data"
    }
   ],
   "source": [
    "# Now let's repeat the process with our petal data.\n",
    "\n",
    "setosa_petal_data = [setosas[\"petal_width\"], setosas[\"petal_length\"]]\n",
    "virginica_petal_data = [virginicas[\"petal_width\"], virginicas[\"petal_length\"]]\n",
    "versicolor_petal_data = [versicolors[\"petal_width\"], versicolors[\"petal_length\"]]\n",
    "\n",
    "petal_plot = plt.scatter(setosa_petal_data[0], setosa_petal_data[1], s=50, alpha=0.5, c='g')\n",
    "plt.scatter(virginica_petal_data[0], virginica_petal_data[1], s=50, alpha=0.5, c='b')\n",
    "plt.scatter(versicolor_petal_data[0], versicolor_petal_data[1], s=50, alpha=0.5, c='r')"
   ]
  },
  {
   "cell_type": "markdown",
   "metadata": {},
   "source": [
    "<center><h1>Interesting....</h1></center>\n",
    "\n",
    "<center><img src=\"interesting.gif\" height=400 width =400></center>\n",
    "\n",
    "### That's a good sign!\n",
    "\n",
    "We can clearly see some trends in the data. We've gotten a lot more information about our data set just by visualizing it.  Although it wasn't immediately obvious by looking at the summary statistics, our visualizations tell us 2 important things:\n",
    "\n",
    "1.  There are some natural clusters in our data.\n",
    "2.  Our data is NOT linearly separable--that is, we can't draw a line to cleanly separate all our different groups.  \n",
    "\n",
    "This may not mean much to you now, but by the end of the course, it will!  \n",
    "\n",
    "A final note on data exploration:  you may think that this step is boring, unnecessary, or optional--why not just go right into building our classifier?  The answer is that without a solid understanding of the shape of your data, you're flying blind.  Could you just build a model and be done with it?  Sure--but how would you know if you could *trust* your classifier?  How would you know which machine learning algorithm(s) to choose for your model in the first place?  Data exploration is a crucial step in machine learning because it can give us information that points us in the right direction, as well as intuition that can help us determine if we can *trust* our model.\n"
   ]
  },
  {
   "cell_type": "markdown",
   "metadata": {},
   "source": [
    "<center><h1>Step 3:  Creating a Classifier</h1></center>\n",
    "\n",
    "### \"All models are wrong.  Some are useful.\"  --George Box\n",
    "\n",
    "There's **_A LOT_** of important foundational knowledge that we need to know before we can effectively make use of machine learning algorithms.  We need to learn what sorts of questions machine learning can answer, get a feel for the types of questions we should ask when trying to solve a problem, what sorts of models we can use, how to train a model, and how to tell if we can trust our model once it's built. \n",
    "\n",
    "We may not have covered this foundational stuff yet, but we're going to build a model anyways.  Don't worry if you don't understand what's going on yet--that's okay, you will soon.  We'll build a classifier  now, just so you can get a feel for the process, and what it looks like to train, test, and validate a model.  In a few weeks, once you've learned the foundational stuff, see if you can come back to this and see if you understand it.  Bonus points if you can improve the accuracy of the model!"
   ]
  },
  {
   "cell_type": "code",
   "execution_count": 6,
   "metadata": {
    "collapsed": false
   },
   "outputs": [
    {
     "name": "stdout",
     "output_type": "stream",
     "text": [
      "Predicted Setosas with 100.0% accuracy\n",
      "Predicted Virginicas with 100.0% accuracy\n",
      "Predicted Versicolors with 100.0% accuracy\n"
     ]
    }
   ],
   "source": [
    "# Start by importing scikit-learn (everyone just calls it sklearn, for short)\n",
    "from sklearn.naive_bayes import GaussianNB\n",
    "from sklearn.model_selection import train_test_split\n",
    "from sklearn.metrics import f1_score\n",
    "# Split data set into training and testing sets\n",
    "X_train, X_test, y_train, y_test = train_test_split(df, df[\"class\"],  test_size=0.30, random_state=42)\n",
    "\n",
    "# Create a Gaussian Naive Bayes object using sklearn\n",
    "clf = GaussianNB()\n",
    "# fit the model using our training data \n",
    "clf.fit(X_train,y_train)\n",
    "# We have a fully trained model, let's run our test set through it and see how we did!\n",
    "y_pred = clf.predict(X_test)\n",
    "# Use sklearn to compute F1 score based on predictions, actual labels for testing set\n",
    "results = f1_score(y_test, y_pred, average=None)\n",
    "# Lets make our output a little more readable...\n",
    "print(\"Predicted Setosas with {}% accuracy\".format(results[0] * 100))\n",
    "print(\"Predicted Virginicas with {}% accuracy\".format(results[1] * 100))\n",
    "print(\"Predicted Versicolors with {}% accuracy\".format(results[2] * 100))"
   ]
  }
 ],
 "metadata": {
  "anaconda-cloud": {},
  "kernelspec": {
   "display_name": "Python [default]",
   "language": "python",
   "name": "python3"
  },
  "language_info": {
   "codemirror_mode": {
    "name": "ipython",
    "version": 3
   },
   "file_extension": ".py",
   "mimetype": "text/x-python",
   "name": "python",
   "nbconvert_exporter": "python",
   "pygments_lexer": "ipython3",
   "version": "3.5.2"
  }
 },
 "nbformat": 4,
 "nbformat_minor": 2
}
